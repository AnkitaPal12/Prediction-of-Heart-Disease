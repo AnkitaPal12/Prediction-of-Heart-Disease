{
 "cells": [
  {
   "cell_type": "markdown",
   "id": "3a419fa7",
   "metadata": {},
   "source": [
    " <h2><center>Importing All Libraries</center></h2>"
   ]
  },
  {
   "cell_type": "code",
   "execution_count": 7,
   "id": "1a491e76",
   "metadata": {},
   "outputs": [],
   "source": [
    "import numpy as np\n",
    "import matplotlib.pyplot as plt\n",
    "import pandas as pd\n",
    "import seaborn as sns\n",
    "from sklearn.preprocessing import LabelEncoder\n",
    "from matplotlib.cm import rainbow"
   ]
  },
  {
   "cell_type": "markdown",
   "id": "efa4bc15",
   "metadata": {},
   "source": [
    "<h2><center>Reading Dataset</center></h2>"
   ]
  },
  {
   "cell_type": "code",
   "execution_count": 8,
   "id": "a07601a4",
   "metadata": {},
   "outputs": [],
   "source": [
    "dataset = pd.read_csv('heart1.csv')\n",
    "p= dataset.iloc[:,0:11].values\n",
    "y= dataset.iloc[:, 11].values"
   ]
  },
  {
   "cell_type": "code",
   "execution_count": 3,
   "id": "0778b435",
   "metadata": {},
   "outputs": [
    {
     "data": {
      "text/html": [
       "<div>\n",
       "<style scoped>\n",
       "    .dataframe tbody tr th:only-of-type {\n",
       "        vertical-align: middle;\n",
       "    }\n",
       "\n",
       "    .dataframe tbody tr th {\n",
       "        vertical-align: top;\n",
       "    }\n",
       "\n",
       "    .dataframe thead th {\n",
       "        text-align: right;\n",
       "    }\n",
       "</style>\n",
       "<table border=\"1\" class=\"dataframe\">\n",
       "  <thead>\n",
       "    <tr style=\"text-align: right;\">\n",
       "      <th></th>\n",
       "      <th>Age</th>\n",
       "      <th>Sex</th>\n",
       "      <th>ChestPainType</th>\n",
       "      <th>RestingBP</th>\n",
       "      <th>Cholesterol</th>\n",
       "      <th>FastingBS</th>\n",
       "      <th>RestingECG</th>\n",
       "      <th>MaxHR</th>\n",
       "      <th>ExerciseAngina</th>\n",
       "      <th>Oldpeak</th>\n",
       "      <th>ST_Slope</th>\n",
       "      <th>HeartDisease</th>\n",
       "    </tr>\n",
       "  </thead>\n",
       "  <tbody>\n",
       "    <tr>\n",
       "      <th>0</th>\n",
       "      <td>40</td>\n",
       "      <td>M</td>\n",
       "      <td>ATA</td>\n",
       "      <td>140</td>\n",
       "      <td>289</td>\n",
       "      <td>0</td>\n",
       "      <td>Normal</td>\n",
       "      <td>172</td>\n",
       "      <td>N</td>\n",
       "      <td>0.0</td>\n",
       "      <td>Up</td>\n",
       "      <td>0</td>\n",
       "    </tr>\n",
       "    <tr>\n",
       "      <th>1</th>\n",
       "      <td>49</td>\n",
       "      <td>F</td>\n",
       "      <td>NAP</td>\n",
       "      <td>160</td>\n",
       "      <td>180</td>\n",
       "      <td>0</td>\n",
       "      <td>Normal</td>\n",
       "      <td>156</td>\n",
       "      <td>N</td>\n",
       "      <td>1.0</td>\n",
       "      <td>Flat</td>\n",
       "      <td>1</td>\n",
       "    </tr>\n",
       "    <tr>\n",
       "      <th>2</th>\n",
       "      <td>37</td>\n",
       "      <td>M</td>\n",
       "      <td>ATA</td>\n",
       "      <td>130</td>\n",
       "      <td>283</td>\n",
       "      <td>0</td>\n",
       "      <td>ST</td>\n",
       "      <td>98</td>\n",
       "      <td>N</td>\n",
       "      <td>0.0</td>\n",
       "      <td>Up</td>\n",
       "      <td>0</td>\n",
       "    </tr>\n",
       "    <tr>\n",
       "      <th>3</th>\n",
       "      <td>48</td>\n",
       "      <td>F</td>\n",
       "      <td>ASY</td>\n",
       "      <td>138</td>\n",
       "      <td>214</td>\n",
       "      <td>0</td>\n",
       "      <td>Normal</td>\n",
       "      <td>108</td>\n",
       "      <td>Y</td>\n",
       "      <td>1.5</td>\n",
       "      <td>Flat</td>\n",
       "      <td>1</td>\n",
       "    </tr>\n",
       "    <tr>\n",
       "      <th>4</th>\n",
       "      <td>54</td>\n",
       "      <td>M</td>\n",
       "      <td>NAP</td>\n",
       "      <td>150</td>\n",
       "      <td>195</td>\n",
       "      <td>0</td>\n",
       "      <td>Normal</td>\n",
       "      <td>122</td>\n",
       "      <td>N</td>\n",
       "      <td>0.0</td>\n",
       "      <td>Up</td>\n",
       "      <td>0</td>\n",
       "    </tr>\n",
       "    <tr>\n",
       "      <th>...</th>\n",
       "      <td>...</td>\n",
       "      <td>...</td>\n",
       "      <td>...</td>\n",
       "      <td>...</td>\n",
       "      <td>...</td>\n",
       "      <td>...</td>\n",
       "      <td>...</td>\n",
       "      <td>...</td>\n",
       "      <td>...</td>\n",
       "      <td>...</td>\n",
       "      <td>...</td>\n",
       "      <td>...</td>\n",
       "    </tr>\n",
       "    <tr>\n",
       "      <th>1831</th>\n",
       "      <td>45</td>\n",
       "      <td>M</td>\n",
       "      <td>TA</td>\n",
       "      <td>110</td>\n",
       "      <td>264</td>\n",
       "      <td>0</td>\n",
       "      <td>Normal</td>\n",
       "      <td>132</td>\n",
       "      <td>N</td>\n",
       "      <td>1.2</td>\n",
       "      <td>Flat</td>\n",
       "      <td>1</td>\n",
       "    </tr>\n",
       "    <tr>\n",
       "      <th>1832</th>\n",
       "      <td>68</td>\n",
       "      <td>M</td>\n",
       "      <td>ASY</td>\n",
       "      <td>144</td>\n",
       "      <td>193</td>\n",
       "      <td>1</td>\n",
       "      <td>Normal</td>\n",
       "      <td>141</td>\n",
       "      <td>N</td>\n",
       "      <td>3.4</td>\n",
       "      <td>Flat</td>\n",
       "      <td>1</td>\n",
       "    </tr>\n",
       "    <tr>\n",
       "      <th>1833</th>\n",
       "      <td>57</td>\n",
       "      <td>M</td>\n",
       "      <td>ASY</td>\n",
       "      <td>130</td>\n",
       "      <td>131</td>\n",
       "      <td>0</td>\n",
       "      <td>Normal</td>\n",
       "      <td>115</td>\n",
       "      <td>Y</td>\n",
       "      <td>1.2</td>\n",
       "      <td>Flat</td>\n",
       "      <td>1</td>\n",
       "    </tr>\n",
       "    <tr>\n",
       "      <th>1834</th>\n",
       "      <td>57</td>\n",
       "      <td>F</td>\n",
       "      <td>ATA</td>\n",
       "      <td>130</td>\n",
       "      <td>236</td>\n",
       "      <td>0</td>\n",
       "      <td>LVH</td>\n",
       "      <td>174</td>\n",
       "      <td>N</td>\n",
       "      <td>0.0</td>\n",
       "      <td>Flat</td>\n",
       "      <td>1</td>\n",
       "    </tr>\n",
       "    <tr>\n",
       "      <th>1835</th>\n",
       "      <td>38</td>\n",
       "      <td>M</td>\n",
       "      <td>NAP</td>\n",
       "      <td>138</td>\n",
       "      <td>175</td>\n",
       "      <td>0</td>\n",
       "      <td>Normal</td>\n",
       "      <td>173</td>\n",
       "      <td>N</td>\n",
       "      <td>0.0</td>\n",
       "      <td>Up</td>\n",
       "      <td>0</td>\n",
       "    </tr>\n",
       "  </tbody>\n",
       "</table>\n",
       "<p>1836 rows × 12 columns</p>\n",
       "</div>"
      ],
      "text/plain": [
       "      Age Sex ChestPainType  RestingBP  Cholesterol  FastingBS RestingECG  \\\n",
       "0      40   M           ATA        140          289          0     Normal   \n",
       "1      49   F           NAP        160          180          0     Normal   \n",
       "2      37   M           ATA        130          283          0         ST   \n",
       "3      48   F           ASY        138          214          0     Normal   \n",
       "4      54   M           NAP        150          195          0     Normal   \n",
       "...   ...  ..           ...        ...          ...        ...        ...   \n",
       "1831   45   M            TA        110          264          0     Normal   \n",
       "1832   68   M           ASY        144          193          1     Normal   \n",
       "1833   57   M           ASY        130          131          0     Normal   \n",
       "1834   57   F           ATA        130          236          0        LVH   \n",
       "1835   38   M           NAP        138          175          0     Normal   \n",
       "\n",
       "      MaxHR ExerciseAngina  Oldpeak ST_Slope  HeartDisease  \n",
       "0       172              N      0.0       Up             0  \n",
       "1       156              N      1.0     Flat             1  \n",
       "2        98              N      0.0       Up             0  \n",
       "3       108              Y      1.5     Flat             1  \n",
       "4       122              N      0.0       Up             0  \n",
       "...     ...            ...      ...      ...           ...  \n",
       "1831    132              N      1.2     Flat             1  \n",
       "1832    141              N      3.4     Flat             1  \n",
       "1833    115              Y      1.2     Flat             1  \n",
       "1834    174              N      0.0     Flat             1  \n",
       "1835    173              N      0.0       Up             0  \n",
       "\n",
       "[1836 rows x 12 columns]"
      ]
     },
     "execution_count": 3,
     "metadata": {},
     "output_type": "execute_result"
    }
   ],
   "source": [
    "dataset"
   ]
  },
  {
   "cell_type": "code",
   "execution_count": 9,
   "id": "69f455e8",
   "metadata": {},
   "outputs": [
    {
     "name": "stdout",
     "output_type": "stream",
     "text": [
      "\n",
      "                                   Information of Data                     \n",
      "<class 'pandas.core.frame.DataFrame'>\n",
      "RangeIndex: 1836 entries, 0 to 1835\n",
      "Data columns (total 12 columns):\n",
      " #   Column          Non-Null Count  Dtype  \n",
      "---  ------          --------------  -----  \n",
      " 0   Age             1836 non-null   int64  \n",
      " 1   Sex             1836 non-null   object \n",
      " 2   ChestPainType   1836 non-null   object \n",
      " 3   RestingBP       1836 non-null   int64  \n",
      " 4   Cholesterol     1836 non-null   int64  \n",
      " 5   FastingBS       1836 non-null   int64  \n",
      " 6   RestingECG      1836 non-null   object \n",
      " 7   MaxHR           1836 non-null   int64  \n",
      " 8   ExerciseAngina  1836 non-null   object \n",
      " 9   Oldpeak         1836 non-null   float64\n",
      " 10  ST_Slope        1836 non-null   object \n",
      " 11  HeartDisease    1836 non-null   int64  \n",
      "dtypes: float64(1), int64(6), object(5)\n",
      "memory usage: 172.2+ KB\n"
     ]
    }
   ],
   "source": [
    "print(\"\\n                                   Information of Data                     \")\n",
    "dataset.info()"
   ]
  },
  {
   "cell_type": "markdown",
   "id": "a6fb57c4",
   "metadata": {},
   "source": [
    "<h2><center>Representation of heartDisease according to male and female</center></h2>"
   ]
  },
  {
   "cell_type": "code",
   "execution_count": 10,
   "id": "848bd364",
   "metadata": {},
   "outputs": [
    {
     "data": {
      "image/png": "[encoded data removed]",
      "text/plain": [
       "<Figure size 432x288 with 1 Axes>"
      ]
     },
     "metadata": {},
     "output_type": "display_data"
    }
   ],
   "source": [
    "#pie chart\n",
    "data_graph_sex = dataset.groupby([\"HeartDisease\",\"Sex\"]).size()\n",
    "plt.pie(data_graph_sex.values, labels = [\"F,0\",\"M,0\",\"F,1\",\"M,1\"], autopct='%1.1f%%',\n",
    "        radius = 1.5, textprops = {\"fontsize\" : 10}) \n",
    "plt.show()"
   ]
  },
  {
   "cell_type": "markdown",
   "id": "1601d7f6",
   "metadata": {},
   "source": [
    "<h2><center> Histogram </center></h2>"
   ]
  },
  {
   "cell_type": "code",
   "execution_count": 11,
   "id": "0bda3b23",
   "metadata": {},
   "outputs": [
    {
     "data": {
      "text/plain": [
       "array([[<AxesSubplot:title={'center':'Age'}>,\n",
       "        <AxesSubplot:title={'center':'RestingBP'}>,\n",
       "        <AxesSubplot:title={'center':'Cholesterol'}>],\n",
       "       [<AxesSubplot:title={'center':'FastingBS'}>,\n",
       "        <AxesSubplot:title={'center':'MaxHR'}>,\n",
       "        <AxesSubplot:title={'center':'Oldpeak'}>],\n",
       "       [<AxesSubplot:title={'center':'HeartDisease'}>, <AxesSubplot:>,\n",
       "        <AxesSubplot:>]], dtype=object)"
      ]
     },
     "execution_count": 11,
     "metadata": {},
     "output_type": "execute_result"
    },
    {
     "data": {
      "image/png": "[encoded data removed]",
      "text/plain": [
       "<Figure size 432x288 with 9 Axes>"
      ]
     },
     "metadata": {
      "needs_background": "light"
     },
     "output_type": "display_data"
    }
   ],
   "source": [
    "dataset.hist()"
   ]
  },
  {
   "cell_type": "markdown",
   "id": "3c0c7a3f",
   "metadata": {},
   "source": [
    "<h2><center>BarPlot for Target Class</center></h2>"
   ]
  },
  {
   "cell_type": "code",
   "execution_count": 12,
   "id": "707cc346",
   "metadata": {},
   "outputs": [
    {
     "data": {
      "image/png": "[encoded data removed]",
      "text/plain": [
       "<Figure size 432x288 with 1 Axes>"
      ]
     },
     "metadata": {
      "needs_background": "light"
     },
     "output_type": "display_data"
    }
   ],
   "source": [
    "sns.countplot(x=\"HeartDisease\", data=dataset)\n",
    "plt.show()"
   ]
  },
  {
   "cell_type": "markdown",
   "id": "64538b2b",
   "metadata": {},
   "source": [
    "<h2><center>Label Encoding</center></h2>"
   ]
  },
  {
   "cell_type": "code",
   "execution_count": 13,
   "id": "2fc4be0d",
   "metadata": {},
   "outputs": [
    {
     "name": "stdout",
     "output_type": "stream",
     "text": [
      "##########After Label Encoding###########\n",
      "[[40 1 1 ... 0 0.0 2]\n",
      " [49 0 2 ... 0 1.0 1]\n",
      " [37 1 1 ... 0 0.0 2]\n",
      " ...\n",
      " [57 1 0 ... 1 1.2 1]\n",
      " [57 0 1 ... 0 0.0 1]\n",
      " [38 1 2 ... 0 0.0 2]]\n"
     ]
    }
   ],
   "source": [
    "labelencoder = LabelEncoder()\n",
    "p[:, 1] = labelencoder.fit_transform(p[:, 1])\n",
    "p[:, 2] = labelencoder.fit_transform(p[:, 2])\n",
    "p[:, 6] = labelencoder.fit_transform(p[:, 6])\n",
    "p[:, 8] = labelencoder.fit_transform(p[:, 8])\n",
    "p[:, 10] = labelencoder.fit_transform(p[:, 10])\n",
    "print(\"##########After Label Encoding###########\")\n",
    "print(p)"
   ]
  },
  {
   "cell_type": "markdown",
   "id": "38a79529",
   "metadata": {},
   "source": [
    "<h4><center>Frequency of male and female</center></h4>"
   ]
  },
  {
   "cell_type": "code",
   "execution_count": 14,
   "id": "bafd6802",
   "metadata": {},
   "outputs": [
    {
     "data": {
      "image/png": "[encoded data removed]",
      "text/plain": [
       "<Figure size 432x288 with 1 Axes>"
      ]
     },
     "metadata": {
      "needs_background": "light"
     },
     "output_type": "display_data"
    }
   ],
   "source": [
    "sns.countplot(x=\"Sex\", data=dataset)\n",
    "plt.show()"
   ]
  },
  {
   "cell_type": "markdown",
   "id": "02ee8364",
   "metadata": {},
   "source": [
    "<h4><center>Resting BP</center></h4>"
   ]
  },
  {
   "cell_type": "code",
   "execution_count": 15,
   "id": "e2115db4",
   "metadata": {},
   "outputs": [
    {
     "data": {
      "image/png": "[encoded data removed]",
      "text/plain": [
       "<Figure size 432x288 with 1 Axes>"
      ]
     },
     "metadata": {
      "needs_background": "light"
     },
     "output_type": "display_data"
    }
   ],
   "source": [
    "dataset[\"RestingBP\"].plot.hist()\n",
    "plt.xlabel('RestingBP')\n",
    "plt.show()"
   ]
  },
  {
   "cell_type": "markdown",
   "id": "1e697eda",
   "metadata": {},
   "source": [
    "<h4><center>Cholesterol</center></h4>"
   ]
  },
  {
   "cell_type": "code",
   "execution_count": 16,
   "id": "926029e6",
   "metadata": {},
   "outputs": [
    {
     "data": {
      "image/png": "[encoded data removed]",
      "text/plain": [
       "<Figure size 432x288 with 1 Axes>"
      ]
     },
     "metadata": {
      "needs_background": "light"
     },
     "output_type": "display_data"
    }
   ],
   "source": [
    "dataset[\"Cholesterol\"].plot.hist()\n",
    "plt.xlabel('Cholesterol')\n",
    "plt.show()"
   ]
  },
  {
   "cell_type": "markdown",
   "id": "2d11baf2",
   "metadata": {},
   "source": [
    "<h2><center>Scaling of Data</center></h2>"
   ]
  },
  {
   "cell_type": "code",
   "execution_count": 20,
   "id": "174c41fc",
   "metadata": {},
   "outputs": [],
   "source": [
    "X = p[:,0:11]\n",
    "y= dataset.iloc[:, 11].values\n",
    " # Splitting the dataset into the Training set and Test set\n",
    "from sklearn.model_selection import train_test_split\n",
    "#from sklearn.cross_validation import train_test_split\n",
    "X_train, X_test, y_train, y_test = train_test_split(X, y,\n",
    "                        test_size = 0.25, random_state = 42) \n",
    "# Feature Scaling\n",
    "from sklearn.preprocessing import MinMaxScaler\n",
    "sc = MinMaxScaler()\n",
    "\n",
    "X_train = sc.fit_transform(X_train)\n",
    "X_test = sc.transform(X_test)"
   ]
  },
  {
   "cell_type": "markdown",
   "id": "e93bf219",
   "metadata": {},
   "source": [
    "<h2><center>K-Nearest Neighbors Classification Algorithm</center></h2>"
   ]
  },
  {
   "cell_type": "code",
   "execution_count": 22,
   "id": "4c75f1cf",
   "metadata": {},
   "outputs": [
    {
     "name": "stdout",
     "output_type": "stream",
     "text": [
      "Accuracy using KNN:  0.9694989106753813\n",
      "New patient: [1]\n",
      "heart fail\n"
     ]
    }
   ],
   "source": [
    "#knn\n",
    "# Fitting K-NN to the Training set\n",
    "from sklearn.neighbors import KNeighborsClassifier\n",
    "classifier = KNeighborsClassifier(weights='distance')\n",
    "classifier.fit(X_train, y_train)\n",
    "\n",
    "y_pred=classifier.predict(X_test)\n",
    "\n",
    "from sklearn.metrics import accuracy_score\n",
    "print(\"Accuracy using KNN: \",accuracy_score(y_test, y_pred))\n",
    "m_accuracy=[]\n",
    "m_accuracy.append(accuracy_score(y_test, y_pred))\n",
    "#new patient heart failure cholestrol =180,STslope=1\n",
    "k=classifier.predict(sc.transform([[49,0,2,160,180,0,1,156,0,1.0,1]]))\n",
    "print(\"New patient:\",k)\n",
    "if k[0]==0:\n",
    "    print(\"no heart fail\")\n",
    "else:\n",
    "    print(\"heart fail\")"
   ]
  },
  {
   "cell_type": "markdown",
   "id": "8fa5e651",
   "metadata": {},
   "source": [
    "<h2><center>Confusion Matrix </center></h2>"
   ]
  },
  {
   "cell_type": "code",
   "execution_count": 23,
   "id": "d4b96f89",
   "metadata": {},
   "outputs": [
    {
     "name": "stdout",
     "output_type": "stream",
     "text": [
      "My Confusion Matrix  KNN: [[185   4]\n",
      " [ 10 260]]\n"
     ]
    },
    {
     "data": {
      "text/plain": [
       "<AxesSubplot:>"
      ]
     },
     "execution_count": 23,
     "metadata": {},
     "output_type": "execute_result"
    },
    {
     "data": {
      "image/png": "[encoded data removed]",
      "text/plain": [
       "<Figure size 432x288 with 2 Axes>"
      ]
     },
     "metadata": {
      "needs_background": "light"
     },
     "output_type": "display_data"
    }
   ],
   "source": [
    "from sklearn.metrics import confusion_matrix\n",
    "print(\"My Confusion Matrix  KNN:\",confusion_matrix(y_test, y_pred))\n",
    "sns.heatmap(confusion_matrix(y_test, y_pred),annot=True)"
   ]
  },
  {
   "cell_type": "markdown",
   "id": "20977bf5",
   "metadata": {},
   "source": [
    "<h2><center>Support Vector Machine Classification Algorithm </center> </h2>"
   ]
  },
  {
   "cell_type": "code",
   "execution_count": 27,
   "id": "db311aa1",
   "metadata": {},
   "outputs": [
    {
     "name": "stdout",
     "output_type": "stream",
     "text": [
      "Accuracy using SVM:  0.9694989106753813\n"
     ]
    }
   ],
   "source": [
    "#######Linear SVM Classification:\n",
    "\n",
    "from sklearn.svm import SVC\n",
    "\n",
    "svc_scores = []\n",
    "kernels = ['linear', 'poly', 'rbf', 'sigmoid']\n",
    "for i in range(len(kernels)):\n",
    "    svc_classifier = SVC(kernel = kernels[i])\n",
    "    svc_classifier.fit(X_train, y_train)\n",
    "    svc_scores.append(svc_classifier.score(X_test, y_test))\n",
    "    y_pred=classifier.predict(X_test)\n",
    "from sklearn.metrics import accuracy_score\n",
    "print(\"Accuracy using SVM: \",accuracy_score(y_test, y_pred))\n"
   ]
  },
  {
   "cell_type": "markdown",
   "id": "8a58d34a",
   "metadata": {},
   "source": [
    "<h2><center>Confusion Matrix</center> </h2>"
   ]
  },
  {
   "cell_type": "code",
   "execution_count": 28,
   "id": "f578aab4",
   "metadata": {},
   "outputs": [
    {
     "name": "stdout",
     "output_type": "stream",
     "text": [
      "My Confusion Matrix SVM : [[185   4]\n",
      " [ 10 260]]\n"
     ]
    },
    {
     "data": {
      "image/png": "[encoded data removed]",
      "text/plain": [
       "<Figure size 432x288 with 2 Axes>"
      ]
     },
     "metadata": {
      "needs_background": "light"
     },
     "output_type": "display_data"
    }
   ],
   "source": [
    "from sklearn.metrics import confusion_matrix\n",
    "print(\"My Confusion Matrix SVM :\",confusion_matrix(y_test, y_pred))\n",
    "cf_mat=confusion_matrix(y_test, y_pred)\n",
    "sns.heatmap(cf_mat,annot=True)\n",
    "\n",
    "m_accuracy.append(accuracy_score(y_test, y_pred))\n"
   ]
  },
  {
   "cell_type": "markdown",
   "id": "984d3474",
   "metadata": {},
   "source": [
    " <h2><center>Support Vector Classifier scores for different kernels </center></h2> "
   ]
  },
  {
   "cell_type": "code",
   "execution_count": 30,
   "id": "5905628e",
   "metadata": {},
   "outputs": [
    {
     "data": {
      "image/png": "[encoded data removed]",
      "text/plain": [
       "<Figure size 432x288 with 1 Axes>"
      ]
     },
     "metadata": {
      "needs_background": "light"
     },
     "output_type": "display_data"
    }
   ],
   "source": [
    "colors = rainbow(np.linspace(0, 1, len(kernels)))\n",
    "plt.bar(kernels, svc_scores, color = colors)\n",
    "\n",
    "for i in range(len(kernels)):\n",
    "    plt.text(i, svc_scores[i], svc_scores[i])\n",
    "plt.xlabel('Kernels')\n",
    "plt.ylabel('Scores')\n",
    "plt.title('Support Vector Classifier scores for different kernels')\n",
    "plt.show()\n"
   ]
  },
  {
   "cell_type": "markdown",
   "id": "56c6b69f",
   "metadata": {},
   "source": [
    "<h2><center>Random Forest Classification Algorithm</center></h2>"
   ]
  },
  {
   "cell_type": "code",
   "execution_count": 42,
   "id": "75af1431",
   "metadata": {},
   "outputs": [
    {
     "name": "stdout",
     "output_type": "stream",
     "text": [
      "Accuracy: 0.9782135076252724\n"
     ]
    }
   ],
   "source": [
    "#RF\n",
    "from sklearn.ensemble import RandomForestClassifier\n",
    "classifier = RandomForestClassifier(n_estimators = 100,criterion = 'entropy', random_state = 0)\n",
    "classifier.fit(X_train, y_train)\n",
    "y_pred=classifier.predict(X_test)\n",
    "from sklearn.metrics import accuracy_score\n",
    "print(\"Accuracy:\" , accuracy_score(y_test, y_pred))\n",
    "m_accuracy.append(accuracy_score(y_test, y_pred))\n"
   ]
  },
  {
   "cell_type": "markdown",
   "id": "87f343b2",
   "metadata": {},
   "source": [
    "<h2><center>Decision Tree Classification Algorithm</center></h2>"
   ]
  },
  {
   "cell_type": "code",
   "execution_count": 36,
   "id": "e094ec6a",
   "metadata": {},
   "outputs": [
    {
     "name": "stdout",
     "output_type": "stream",
     "text": [
      "Accuracy using decision tree: 0.9694989106753813\n"
     ]
    }
   ],
   "source": [
    "from sklearn.tree import DecisionTreeClassifier\n",
    "classifier = DecisionTreeClassifier(criterion = 'entropy',\n",
    "                                    random_state = 0)\n",
    "classifier.fit(X_train, y_train)\n",
    "y_pred=classifier.predict(X_test)\n",
    "\n",
    "from sklearn.metrics import accuracy_score\n",
    "print(\"Accuracy using decision tree:\",accuracy_score(y_test, y_pred))\n",
    "m_accuracy.append(accuracy_score(y_test, y_pred))"
   ]
  },
  {
   "cell_type": "markdown",
   "id": "b302996c",
   "metadata": {},
   "source": [
    "<h2><center>Accuracy comparison</center></h2>"
   ]
  },
  {
   "cell_type": "code",
   "execution_count": 37,
   "id": "c9b3ba07",
   "metadata": {},
   "outputs": [
    {
     "name": "stdout",
     "output_type": "stream",
     "text": [
      "KNN    0.969499\n",
      "SVM    0.969499\n",
      "rf     0.978214\n",
      "dt     0.969499\n",
      "dtype: float64\n"
     ]
    },
    {
     "data": {
      "image/png": "[encoded data removed]",
      "text/plain": [
       "<Figure size 432x288 with 1 Axes>"
      ]
     },
     "metadata": {
      "needs_background": "light"
     },
     "output_type": "display_data"
    }
   ],
   "source": [
    "s=pd.Series(m_accuracy,index=['KNN','SVM','rf','dt'])\n",
    "print(s)\n",
    "\n",
    "s.plot(kind='bar',color=['orange', 'lightgreen', 'blue', 'yellow'])\n",
    "plt.show()"
   ]
  },
  {
   "cell_type": "markdown",
   "id": "f2f906ff",
   "metadata": {},
   "source": [
    "<h2><center>Conclusion : Random Forest Classifier scored the best score of 97%.</center></h2>"
   ]
  }
 ],
 "metadata": {
  "kernelspec": {
   "display_name": "Python 3",
   "language": "python",
   "name": "python3"
  },
  "language_info": {
   "codemirror_mode": {
    "name": "ipython",
    "version": 3
   },
   "file_extension": ".py",
   "mimetype": "text/x-python",
   "name": "python",
   "nbconvert_exporter": "python",
   "pygments_lexer": "ipython3",
   "version": "3.8.8"
  }
 },
 "nbformat": 4,
 "nbformat_minor": 5
}
